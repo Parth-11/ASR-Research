{
 "cells": [
  {
   "cell_type": "code",
   "execution_count": 6,
   "id": "0e191acf",
   "metadata": {},
   "outputs": [],
   "source": [
    "from datasets import Dataset, Audio\n",
    "import json\n",
    "import os"
   ]
  },
  {
   "cell_type": "code",
   "execution_count": 7,
   "id": "e815b56a",
   "metadata": {},
   "outputs": [],
   "source": [
    "data_dir = \"fleurs_punjabi\"\n",
    "json_path = os.path.join(data_dir,'data.json')"
   ]
  },
  {
   "cell_type": "code",
   "execution_count": 8,
   "id": "ab1894c1",
   "metadata": {},
   "outputs": [],
   "source": [
    "with open(json_path,\"r\",encoding='utf-8') as f:\n",
    "    data = json.load(f)"
   ]
  },
  {
   "cell_type": "code",
   "execution_count": 9,
   "id": "01f408fa",
   "metadata": {},
   "outputs": [],
   "source": [
    "content = []\n",
    "for item in data:\n",
    "    content.append({\n",
    "        \"audio\":os.path.join(data_dir,item['audioFilename']),\n",
    "        \"sentence\":item['text'],\n",
    "        'duration':item['duration']\n",
    "    })"
   ]
  },
  {
   "cell_type": "code",
   "execution_count": null,
   "id": "cecccec3",
   "metadata": {},
   "outputs": [],
   "source": []
  }
 ],
 "metadata": {
  "kernelspec": {
   "display_name": "venv",
   "language": "python",
   "name": "python3"
  },
  "language_info": {
   "codemirror_mode": {
    "name": "ipython",
    "version": 3
   },
   "file_extension": ".py",
   "mimetype": "text/x-python",
   "name": "python",
   "nbconvert_exporter": "python",
   "pygments_lexer": "ipython3",
   "version": "3.11.13"
  }
 },
 "nbformat": 4,
 "nbformat_minor": 5
}
